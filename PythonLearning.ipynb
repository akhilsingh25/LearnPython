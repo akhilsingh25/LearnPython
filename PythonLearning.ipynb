{
  "nbformat": 4,
  "nbformat_minor": 0,
  "metadata": {
    "colab": {
      "name": "PythonLearning",
      "provenance": [],
      "collapsed_sections": []
    },
    "kernelspec": {
      "display_name": "Python 3",
      "name": "python3"
    },
    "language_info": {
      "name": "python"
    }
  },
  "cells": [
    {
      "cell_type": "markdown",
      "metadata": {
        "id": "1rJKiDctTo82"
      },
      "source": [
        "It is the complete document to learn python ,\n",
        "for more examples and definitoin this site could be followed\n",
        "https://www.w3schools.com/python/default.asp\n"
      ]
    },
    {
      "cell_type": "code",
      "metadata": {
        "colab": {
          "base_uri": "https://localhost:8080/"
        },
        "id": "8Mb3SKjEJEr5",
        "outputId": "1c194d10-1ab7-4479-9fdf-8c69bb5e4fbd"
      },
      "source": [
        "print(\"hello world\")            \n",
        " # prinitng Hello world in python is very easy python is a intrepeterd language \n",
        " # it executes line by line rather than as whole \n",
        " # "
      ],
      "execution_count": null,
      "outputs": [
        {
          "output_type": "stream",
          "text": [
            "hellow world\n"
          ],
          "name": "stdout"
        }
      ]
    },
    {
      "cell_type": "markdown",
      "metadata": {
        "id": "Hrp61C_UUfGj"
      },
      "source": [
        "Youtube Channel to Follow for Python Are , for more deeper Dive \n",
        "1) youtube/sentdex\n",
        "2) youtube/thenewboston\n",
        "3) youtube/freecodecamp"
        "4) Youtube/CodeWithHarry"
      ]
    },
    {
      "cell_type": "code",
      "metadata": {
        "colab": {
          "base_uri": "https://localhost:8080/"
        },
        "id": "dAjytcSHKEXC",
        "outputId": "7cae2ac5-9d5a-4ee6-f9e1-65bf4cac7abd"
      },
      "source": [
        "\"\"\"this is multiline              \n",
        "comment\n",
        "\"\"\"\n",
        "print(\"multiline\")"
      ],
      "execution_count": null,
      "outputs": [
        {
          "output_type": "stream",
          "text": [
            "multiline\n"
          ],
          "name": "stdout"
        }
      ]
    },
    {
      "cell_type": "code",
      "metadata": {
        "colab": {
          "base_uri": "https://localhost:8080/"
        },
        "id": "-Y3aY1dJKrmU",
        "outputId": "e3589c7a-0477-4fe7-d6d6-b0e50beccbd7"
      },
      "source": [
        "#types of number\n",
        "a=10\n",
        "b=8.3\n",
        "c=2+4j\n",
        "\n",
        "print(type(a))\n",
        "print(type(b))\n",
        "print(type(c))"
      ],
      "execution_count": null,
      "outputs": [
        {
          "output_type": "stream",
          "text": [
            "<class 'int'>\n",
            "<class 'float'>\n",
            "<class 'complex'>\n"
          ],
          "name": "stdout"
        }
      ]
    },
    {
      "cell_type": "code",
      "metadata": {
        "colab": {
          "base_uri": "https://localhost:8080/"
        },
        "id": "H3cyDU9OKq5H",
        "outputId": "41d69052-c0fb-485e-bd08-0e868ee07000"
      },
      "source": [
        "#how to convert integer to float\n",
        "\n",
        "x=float(a)  #int to float\n",
        "y= int(b)   #float to int\n",
        "z= complex(a)  #int to complex\n",
        "\n",
        "print(x)\n",
        "print(y)\n",
        "print(z)"
      ],
      "execution_count": null,
      "outputs": [
        {
          "output_type": "stream",
          "text": [
            "10.0\n",
            "8\n",
            "(10+0j)\n"
          ],
          "name": "stdout"
        }
      ]
    },
    {
      "cell_type": "code",
      "metadata": {
        "colab": {
          "base_uri": "https://localhost:8080/"
        },
        "id": "nCeLXo01LymL",
        "outputId": "e366a245-e5db-4561-d044-80a01cdfbce0"
      },
      "source": [
        "#operations on Numbers \n",
        "\n",
        "#addition \n",
        "a=5\n",
        "b=6\n",
        "addition = a+b\n",
        "print(addition)\n",
        "\n",
        "#subtration \n",
        "subtraction = b-a\n",
        "print(subtraction)\n",
        "\n",
        "#multiplication\n",
        "\n",
        "multiplication = a*b;\n",
        "print(multiplication)\n",
        "\n",
        "#division\n",
        "b1=10\n",
        "a1=5\n",
        "division = b1/a1\n",
        "print(division)\n",
        "\n",
        "#modulus \n",
        "\n",
        "a= 5\n",
        "b=2\n",
        "\n",
        "mod = a%2\n",
        "print(mod)\n",
        "\n",
        "#power (exponenet)\n",
        "\n",
        "expo = a**b\n",
        "print(expo)\n",
        "\n",
        "#floor division\n",
        "\n",
        "floor = a//b\n",
        "print(floor)"
      ],
      "execution_count": null,
      "outputs": [
        {
          "output_type": "stream",
          "text": [
            "11\n",
            "1\n",
            "30\n",
            "2.0\n",
            "1\n",
            "25\n",
            "2\n"
          ],
          "name": "stdout"
        }
      ]
    },
    {
      "cell_type": "code",
      "metadata": {
        "id": "2NcAiCcQkHjv"
      },
      "source": [
        "#syntax Error : Errors which do occur due to wrong syntax ( set of rules ) used\n",
        "#index Error : Trying accessing index which is not reacheable \n",
        "#Modulesnotfounderror : In this error module related to any package is missing \n",
        "#KeyError :  Assigned key in any function, and using out of the bound or asking out of the range key \n",
        "# ImportError : importing cerain things from module \n",
        "# StopIteration erroe : going our of bound of iterator items\n",
        "# Tyoe Error: Operation with different data types like string and integer\n",
        "# Value error : Giving wrong value to the variable \n",
        "# name error : accessing value not defined undeclared variable \n",
        "# zero division eroor : division by zero\n",
        "# keyboard interrupt erroe : entering keyboard shorcut which interuupts the code line running or temination of terminal \n",
        "# indentation error : space error . \n"
      ],
      "execution_count": null,
      "outputs": []
    },
    {
      "cell_type": "code",
      "metadata": {
        "colab": {
          "base_uri": "https://localhost:8080/"
        },
        "id": "TSV79qJZrB-M",
        "outputId": "85cdb169-9971-453d-c965-5450e2d600be"
      },
      "source": [
        "# Variables : container for the Values \n",
        "#we dont have to define any type in python it automatically detects \n",
        "\n",
        "x=5\n",
        "name = \"Michael\"\n",
        "\n",
        "z,c,v = \"Apple\", \"Samsunng\", \"Nokia\"\n",
        "\n",
        "print(z)\n",
        "print(c)\n",
        "print(name)\n",
        "print(c)\n",
        "print(v)"
      ],
      "execution_count": null,
      "outputs": [
        {
          "output_type": "stream",
          "text": [
            "Apple\n",
            "Samsunng\n",
            "Michael\n",
            "Samsunng\n",
            "Nokia\n"
          ],
          "name": "stdout"
        }
      ]
    },
    {
      "cell_type": "code",
      "metadata": {
        "colab": {
          "base_uri": "https://localhost:8080/"
        },
        "id": "dqdrNvbVuYEU",
        "outputId": "96cb33f5-c63c-444f-ad6c-e07af330cd78"
      },
      "source": [
        "#string in python\n",
        "MultiLineString = \"\"\" Hey this is \n",
        "an example of multiline string\"\"\"\n",
        "\n",
        "print(MultiLineString)\n",
        "print(len(MultiLineString))   #len function for getting the length \n",
        "\n",
        "x = \" Hellow , from the world  \"\n",
        "a= \"ram\"\n",
        "b= \"shyam\"\n",
        "print( \"the\" in x )  #for checking any word\n",
        "print(x[2: 4])      #for sepcifying how much to print \n",
        "print(x.lower())    #lowercase letter\n",
        "print(x.upper())    #uppercase letter\n",
        "print(x.strip())    #removes white space\n",
        "print(x.replace(\"H\",\"Y\"))    #replacement of words\n",
        "print(a+ \"  and \"+b)    #conactenation\n",
        "\n",
        "\n",
        "#More String Methods https://www.w3schools.com/python/python_ref_string.asp\n",
        "#Escape Charachters  https://www.w3schools.com/python/gloss_python_escape_characters.asp"
      ],
      "execution_count": null,
      "outputs": [
        {
          "output_type": "stream",
          "text": [
            " Hey this is \n",
            "an example of multiline string\n",
            "44\n",
            "True\n",
            "el\n",
            " hellow , from the world  \n",
            " HELLOW , FROM THE WORLD  \n",
            "Hellow , from the world\n",
            " Yellow , from the world  \n",
            "ram  shyam\n"
          ],
          "name": "stdout"
        }
      ]
    },
    {
      "cell_type": "code",
      "metadata": {
        "colab": {
          "base_uri": "https://localhost:8080/"
        },
        "id": "ewxEbDUxz2dW",
        "outputId": "c327869b-c71b-4ae8-eb9e-450cabcd4590"
      },
      "source": [
        "#Conditional Statements \n",
        " \n",
        "#consitions are the states of any values , numbers or variables\n",
        "# a>b, a<b, a==b , a!=b , a<= b, a>=b\n",
        "\n",
        "#out first consition stement is if else , in this we tell computer if this happend do this otherwise some ther thing\n",
        "\n",
        "a =33\n",
        "b = 33\n",
        "if a>b :\n",
        "  print(\"a is greater then b \")\n",
        "else:\n",
        "  print(\"b is greatet than a\")\n",
        "\n",
        "#and what if a ==b, then we can use else if \n",
        "if a>b :\n",
        "  print(\"a is greater then b \")\n",
        "elif a==b:\n",
        "  print(\" as is eual to b\")\n",
        "else :\n",
        "  print(\"b is greatet than a\")\n",
        "\n"
      ],
      "execution_count": null,
      "outputs": [
        {
          "output_type": "stream",
          "text": [
            "b is greatet than a\n",
            " as is eual to b\n"
          ],
          "name": "stdout"
        }
      ]
    },
    {
      "cell_type": "code",
      "metadata": {
        "colab": {
          "base_uri": "https://localhost:8080/"
        },
        "id": "rSs093jB1JYQ",
        "outputId": "a0b67768-9d4f-4e70-bc76-eb6472494779"
      },
      "source": [
        "#function : a block of code which runs when it is called \n",
        "\n",
        "def HelloWorldPrinter():      #this is hpw tp define a function\n",
        "  print(\"Hwllo world\")\n",
        "\n",
        "HelloWorldPrinter() #Calling the function\n",
        "\n",
        "# we can give arguments inside a function\n",
        "\n",
        "def Adder(x,y):\n",
        "  print(x+y)\n",
        "\n",
        "Adder(2,4)\n",
        "\n",
        "\n",
        "#there are times when you will encounter words like , parameters and arguments \n",
        "# when the value is passed when the function is called its called argument\n",
        "# when the fucntion is defined and giving values/variables in the definition is parameter"
      ],
      "execution_count": null,
      "outputs": [
        {
          "output_type": "stream",
          "text": [
            "Hwllo world\n",
            "6\n"
          ],
          "name": "stdout"
        }
      ]
    },
    {
      "cell_type": "code",
      "metadata": {
        "colab": {
          "base_uri": "https://localhost:8080/"
        },
        "id": "SAIqWdUF31PX",
        "outputId": "9e43b21b-bf07-4a51-d5dd-d62fabc3f326"
      },
      "source": [
        "#looping in python\n",
        "\n",
        "num = [ 11,34,35,67,100,54]\n",
        "\n",
        "for x in num :\n",
        "  print(x, end =\" \")        # (end = \" \") used to print in the same line separated by a space \n",
        "\n",
        "#conditional statments can be used along the loop too\n",
        "\n",
        "for x in num:\n",
        "  print(x)\n",
        "  if x == 35 :\n",
        "      break\n",
        "\n",
        "#Range based looping \n",
        "\n",
        "for x in range(2,10):\n",
        "  print(x, end = \" \")\n",
        "\n",
        "#while statement \n",
        "i=1\n",
        "while i<6:\n",
        "  print(i)\n",
        "  i+=i\n",
        "  \n"
      ],
      "execution_count": null,
      "outputs": [
        {
          "output_type": "stream",
          "text": [
            "11 34 35 67 100 54 11\n",
            "34\n",
            "35\n",
            "2 3 4 5 6 7 8 9 1\n",
            "2\n",
            "4\n"
          ],
          "name": "stdout"
        }
      ]
    },
    {
      "cell_type": "code",
      "metadata": {
        "id": "pDm6qw5siUkn",
        "colab": {
          "base_uri": "https://localhost:8080/"
        },
        "outputId": "eb28976a-5b56-4667-8df8-033f48905cd8"
      },
      "source": [
        " #functions as arguments \n",
        "\n",
        " def trial(x,y):\n",
        "   print(x + \" and \"+y)\n",
        "  \n",
        "trial(\"pen\",\"paper\")\n",
        "\n",
        "#####################################\n",
        "\n",
        "list = [ 'car','bus','bike','train']\n",
        "\n",
        "def loop(x):\n",
        "  print(x*3)\n",
        "\n",
        "def map_simple(crazy,list):\n",
        "  for items in list:\n",
        "    crazy(items)\n",
        "\n",
        "map_simple(loop,list)"
      ],
      "execution_count": null,
      "outputs": [
        {
          "output_type": "stream",
          "text": [
            "pen and paper\n",
            "carcarcar\n",
            "busbusbus\n",
            "bikebikebike\n",
            "traintraintrain\n"
          ],
          "name": "stdout"
        }
      ]
    },
    {
      "cell_type": "code",
      "metadata": {
        "colab": {
          "base_uri": "https://localhost:8080/"
        },
        "id": "9MoT0eO8BY5F",
        "outputId": "915ddb04-6797-4bd8-9284-d54b9dcc5bda"
      },
      "source": [
        "#list , tuples and Dictionaries\n",
        "#Lists = Lists are used to store multiple items in a single variable.\n",
        "#defined as Name_of_Variable = [ values sepated by commas\n",
        "#List is a collection which is ordered and changeable. Allows duplicate members.\n",
        "\n",
        "list1= [\"car\", \"bike\", 12,34, True]\n",
        "print(list1)\n",
        "\n",
        "list1[3] = \"This value is chaneged \"\n",
        "print(list1)\n",
        "list1.insert(2,\"this position is changed \")\n",
        "print(list1)\n",
        "list1.append(\"append is used to add the item in the last \")\n",
        "print(list1)\n",
        "#for removing any item from the list \n",
        "list1.remove(\"bike\")\n",
        "print(list1)"
      ],
      "execution_count": null,
      "outputs": [
        {
          "output_type": "stream",
          "text": [
            "['car', 'bike', 12, 34, True]\n",
            "['car', 'bike', 12, 'This value is chaneged ', True]\n",
            "['car', 'bike', 'this position is changed ', 12, 'This value is chaneged ', True]\n",
            "['car', 'bike', 'this position is changed ', 12, 'This value is chaneged ', True, 'append is used to add the item in the last ']\n",
            "['car', 'this position is changed ', 12, 'This value is chaneged ', True, 'append is used to add the item in the last ']\n"
          ],
          "name": "stdout"
        }
      ]
    },
    {
      "cell_type": "code",
      "metadata": {
        "colab": {
          "base_uri": "https://localhost:8080/"
        },
        "id": "K2_FuJI6FElJ",
        "outputId": "e9f62128-722c-4c07-f9ae-258cbee0829f"
      },
      "source": [
        "#tuples \n",
        "#Tuple is a collection which is ordered and unchangeable. Allows duplicate members.\n",
        "#Tuples are used to store multiple items in a single variable.\n",
        "\n",
        "#defined as \n",
        "\n",
        "Tuple = (\"Car\", \"Road\", \"strong\", 3,4,True)\n",
        "\n",
        "print(Tuple)\n",
        "#insteead of changing everyhting could be done as list"
      ],
      "execution_count": null,
      "outputs": [
        {
          "output_type": "stream",
          "text": [
            "('Car', 'Road', 'strong', 3, 4, True)\n"
          ],
          "name": "stdout"
        }
      ]
    },
    {
      "cell_type": "code",
      "metadata": {
        "colab": {
          "base_uri": "https://localhost:8080/"
        },
        "id": "Z08l4FanKX76",
        "outputId": "a0a7eb39-ddd7-467e-8fa9-83b0553c7076"
      },
      "source": [
        "#Dictionary is a collection which is ordered* and changeable. No duplicate members\n",
        "#Dictionaries are used to store data values in key:value pairs.\n",
        "\n",
        "dictt = { \"name\": \"ram\", \n",
        "         \"age\": 26,\n",
        "         \"vehicle\": \"Maruti\",\n",
        "         \"Sujects\":[\"math\", \"chemistry\"]  #we can have list in dict\n",
        "         }\n",
        "print(dictt)\n",
        "print(len(dictt))\n",
        "\n",
        "x = dictt[\"age\"]\n",
        "print(x)\n",
        "x=dictt.get(\"age\")\n",
        "print(x)\n",
        "\n",
        "dictt[\"vehicle\"]= \"car_company\"     #changing values\n",
        "\n",
        "dictt[\"Color\"] = \"red\"    #adding values\n",
        "print(dictt)\n",
        "\n",
        "dictt.pop(\"age\")    #deleting fields\n",
        "print(dictt)"
      ],
      "execution_count": null,
      "outputs": [
        {
          "output_type": "stream",
          "text": [
            "{'name': 'ram', 'age': 26, 'vehicle': 'Maruti', 'Sujects': ['math', 'chemistry']}\n",
            "4\n",
            "26\n",
            "26\n",
            "{'name': 'ram', 'age': 26, 'vehicle': 'car_company', 'Sujects': ['math', 'chemistry'], 'Color': 'red'}\n",
            "{'name': 'ram', 'vehicle': 'car_company', 'Sujects': ['math', 'chemistry'], 'Color': 'red'}\n"
          ],
          "name": "stdout"
        }
      ]
    },
    {
      "cell_type": "code",
      "metadata": {
        "colab": {
          "base_uri": "https://localhost:8080/"
        },
        "id": "pdufjy_sNSvL",
        "outputId": "f559383c-c4e6-48e7-cdf2-518e41305c93"
      },
      "source": [
        "#list comprehension\n",
        "\n",
        "fruits = [ \"apples\", \"bananas\", \"pineapples\", \"mango\", \"kiwi\"]\n",
        "\n",
        "newfruits = [x for x in fruits if \"a\" in x ]    #withput using for loop making new list using condition\n",
        "\n",
        "print(fruits)\n",
        "print(newfruits)\n",
        "\n",
        "#https://www.geeksforgeeks.org/comprehensions-in-python/ for more details"
      ],
      "execution_count": null,
      "outputs": [
        {
          "output_type": "stream",
          "text": [
            "['apples', 'bananas', 'pineapples', 'mango', 'kiwi']\n",
            "['apples', 'bananas', 'pineapples', 'mango']\n"
          ],
          "name": "stdout"
        }
      ]
    },
    {
      "cell_type": "code",
      "metadata": {
        "colab": {
          "base_uri": "https://localhost:8080/"
        },
        "id": "iURFS8FsO8ta",
        "outputId": "5d5bad88-59fb-45bc-c8d0-016f9e838bb6"
      },
      "source": [
        "#file Handlingddd\n",
        "\n",
        "file = open(\"/content/Testfile.txt\")  #open the file pr assigning the file\n",
        "\n",
        "f= open(\"/content/Testfile.txt\", \"r\") #opening in read mode\n",
        "\n",
        "print(f.read())     #for prinintg the contents ( charchters could be passed)\n",
        "\n",
        "print(f.read(3))    #read first 3 charachters\n",
        "\n",
        "print(f.readline(3))  #for reading line 1 readline will read  1 line only and ( the number of charcheters to be read)\n",
        "\n",
        "#we can use for loop \n",
        "\n",
        "for x in f:\n",
        "  print(x)\n",
        "\n",
        "#to close the file \n",
        "f.close()\n",
        "\n",
        "#for appending texts \n",
        "f= open(\"/content/Testfile.txt\", \"a\")\n",
        "f.write(\"new content is appende \")\n",
        "f.close()\n",
        "f= open(\"/content/Testfile.txt\", \"r\")\n",
        "print(f.read())\n",
        "\n",
        "#writing file erases previes values \n",
        "\n",
        "g= open(\"/content/Testfile.txt\", \"w\")\n",
        "g.write(\"this is after wrote mode is used\")\n",
        "g.close()\n",
        "\n",
        "g= open(\"/content/Testfile.txt\", \"r\")\n",
        "print(g.read())\n",
        "\n",
        "#creating new file\n",
        "\n",
        "newfile = open(\"/content/newfileher5e.txt\",\"x\")\n",
        "\n",
        "#we can remove file \n",
        "\n",
        "import os\n",
        "os.remove(\"newfilehere.txt\")"
      ],
      "execution_count": null,
      "outputs": [
        {
          "output_type": "stream",
          "text": [
            "this is after wrote mode is used\n",
            "\n",
            "\n",
            "this is after wrote mode is usednew content is appende \n",
            "this is after wrote mode is used\n"
          ],
          "name": "stdout"
        }
      ]
    },
    {
      "cell_type": "code",
      "metadata": {
        "colab": {
          "base_uri": "https://localhost:8080/"
        },
        "id": "S72XtVJt0uf_",
        "outputId": "1a3b72d1-bec4-4c69-e3ff-8540d9752c02"
      },
      "source": [
        "#classes and objection in python \n",
        "\n",
        "class Human:\n",
        "  def __init__(self,name,age):\n",
        "    self.name = name\n",
        "    self.age = age\n",
        "  def methods(self):\n",
        "    print(\"My name is \" + self.name)\n",
        "\n",
        "h1= Human(\"Bob Marley\", 50)\n",
        "print(h1.name)\n",
        "print(h1.age)\n",
        "h1.methods()\n",
        "\n",
        "\n",
        "h1.name = \" Marley Bob \"\n",
        "h1.age = \"345\"\n",
        "h1.methods()\n",
        "\n",
        "#we can delee a object by using del 1 \n",
        "\n",
        "#class cant be mepty for using a empty class we can use pass \n",
        "# class empty:\n",
        "#   pass "
      ],
      "execution_count": null,
      "outputs": [
        {
          "output_type": "stream",
          "text": [
            "Bob Marley\n",
            "50\n",
            "My name is Bob Marley\n",
            "My name is  Marley Bob \n"
          ],
          "name": "stdout"
        }
      ]
    },
    {
      "cell_type": "code",
      "metadata": {
        "colab": {
          "base_uri": "https://localhost:8080/"
        },
        "id": "kusVYbf71wsV",
        "outputId": "b2ec5440-00ed-4526-d09a-c570253c857b"
      },
      "source": [
        "#lambda,Filtres and map \n",
        "#lambda functions : A lambda function is a small anonymous function.\n",
        "#A lambda function can take any number of arguments, but can only have one expression.\n",
        "#lamba arguments : expression\n",
        "\n",
        "def f1(n):\n",
        "  return lambda a : a*n\n",
        "\n",
        "doub = f1(2)  #this 2 will  be passed function and becoem n\n",
        "print(doub(20)) #this value 20 will be passed to function as the value of \"a\"\n",
        "\n",
        "############################################################################\n",
        "\n",
        "#filters \n",
        "#returns true and false values in a list based on the filter\n",
        "\n",
        "def prime(x):\n",
        "  for n in range (2,x):\n",
        "    if x%n ==0:\n",
        "      return False \n",
        "    else:\n",
        "      return True \n",
        "\n",
        "filtered = filter (prime , range(10))   \n",
        "print(\"prime NUmbers are : \", list(filtered))\n",
        "\n",
        "####################################################\n",
        "#map()\n",
        "#The map() function executes a specified function for each item in an iterable. The item is sent to the function as a parameter.\n",
        "#map(function, iterables)\n",
        "def square(x):\n",
        "  return x*x\n",
        "\n",
        "numbers = [1,2,3,4,5]\n",
        "\n",
        "listofsquares = map(square, numbers)\n",
        "print(list(listofsquares))"
      ],
      "execution_count": null,
      "outputs": [
        {
          "output_type": "stream",
          "text": [
            "40\n",
            "prime NUmbers are :  [3, 5, 7, 9]\n",
            "[1, 4, 9, 16, 25]\n"
          ],
          "name": "stdout"
        }
      ]
    },
    {
      "cell_type": "code",
      "metadata": {
        "colab": {
          "base_uri": "https://localhost:8080/"
        },
        "id": "YKRosbdsvkRt",
        "outputId": "e148067c-c856-4436-e68d-a87840f81ee4"
      },
      "source": [
        "def fun(variable):\n",
        "   letters = ['a', 'e', 'i', 'o', 'u'] \n",
        "   if (variable in letters):\n",
        "    return True \n",
        "   else: return False \n",
        "sequence = ['g', 'e', 'e', 'j', 'k', 's', 'p', 'r'] \n",
        "filtered = filter(fun, sequence) \n",
        "print('The filtered letters are:') \n",
        "for s in filtered: \n",
        "  print(s)"
      ],
      "execution_count": null,
      "outputs": [
        {
          "output_type": "stream",
          "text": [
            "The filtered letters are:\n",
            "e\n",
            "e\n"
          ],
          "name": "stdout"
        }
      ]
    },
    {
      "cell_type": "code",
      "metadata": {
        "id": "c8X5R8w2ybxz"
      },
      "source": [
        "#pip in python it is a package manager \n",
        "#libraiers to learn\n",
        "#numpy\n",
        "#pendulum\n",
        "#python_imaging_library\n",
        "#MoviePy\n",
        "#Requests\n",
        "#Tkinter\n",
        "#PyQt\n",
        "#Pandas\n",
        "#py32\n",
        "#pytest\n",
        "\n"
      ],
      "execution_count": null,
      "outputs": []
    },
    {
      "cell_type": "code",
      "metadata": {
        "id": "JiPlrmHgACPD"
      },
      "source": [
        "#reading from excel file \n",
        "#xlrd package is used \n",
        "import xlrd\n",
        "\n",
        "loc = (Here goes the path of the excel sheet)\n",
        "#better to store in a variable to use the file \n",
        "\n",
        "wb = xlrd.open_workbook(loc)\n",
        "sheet = wb.sheet_by_index(index value of the sheet)\n",
        "\n",
        "print(sheet.cell_values(4.4))"
      ],
      "execution_count": null,
      "outputs": []
    },
    {
      "cell_type": "code",
      "metadata": {
        "colab": {
          "base_uri": "https://localhost:8080/"
        },
        "id": "rjG7QsLIBgl7",
        "outputId": "bc2ee0bc-6d21-40b3-c279-482164371b4f"
      },
      "source": [
        "#iterators \n",
        "\n",
        "tuple1= (\"car\",\"bike\", \"train\")\n",
        "myIt = iter(tuple1)\n",
        "\n",
        "print(next(myIt))\n",
        "print(next(myIt))\n",
        "\n"
      ],
      "execution_count": null,
      "outputs": [
        {
          "output_type": "stream",
          "text": [
            "car\n",
            "bike\n"
          ],
          "name": "stdout"
        }
      ]
    },
    {
      "cell_type": "code",
      "metadata": {
        "colab": {
          "base_uri": "https://localhost:8080/"
        },
        "id": "R4XwVpxcEPvg",
        "outputId": "54cb8fef-cf9d-4c77-d96f-4c73842558c4"
      },
      "source": [
        "#pickling \n",
        "#serialisation and deserissalisation\n",
        "#convers 2d to 1d \n",
        "\"\"\" \n",
        "In object-oriented programming, serialisation is the process of \n",
        "transforming data structures or objects into a format that can be offloaded \"\"\"\"\n",
        "to a file, memory cache or transmitted over the network connection and the same object can be reconstructed later in the same or different environment.\n",
        "import pickle\n",
        "mydicts = {'1':'a', '2':'b' }\n",
        "pickle_file = open(\"pocketfile.txt\", \"wb\")\n",
        "pickle.dump(mydicts,pickle_file)\n",
        "\n",
        "pickle_file = open(\"pocketfile.txt\",\"rb\")\n",
        "new_dicts = pickle.load(pickle_file)\n",
        "print(new_dicts)\n",
        "\n",
        "\n",
        " "
      ],
      "execution_count": null,
      "outputs": [
        {
          "output_type": "stream",
          "text": [
            "{'1': 'a', '2': 'b'}\n"
          ],
          "name": "stdout"
        }
      ]
    },
    {
      "cell_type": "code",
      "metadata": {
        "colab": {
          "base_uri": "https://localhost:8080/"
        },
        "id": "5MpHAbFdHlZx",
        "outputId": "0cd1c1de-5757-43d2-ad41-b778063721f9"
      },
      "source": [
        "#opening json files python \n",
        "#working wiht json \n",
        "\n",
        "import json\n",
        "\n",
        "person = '{ \"name\": \"Bob\",\"language\" : [\"English\",\"Gernman\"] }'\n",
        "person_dict = json.loads(person)\n",
        "print(person_dict)\n",
        "\n",
        "#opening a json file \n",
        "with open(\"/content/samplejson.json\") as f:\n",
        "  data = json.load(f)\n",
        "\n",
        "print(data)\n",
        "\n",
        "#for printing data in more readable format\n",
        "print(json.dumps(data, indent =4, sort_keys=True))\n",
        "\n",
        "# only dict,tumple,list,int,str,float,bool and null values can be converted to json python\n",
        "\n",
        "#wrtiting in json file\n",
        "\n",
        "with open(\"person.txt\",\"w\") as json_file:\n",
        "  json.dump(person,json_file)\n"
      ],
      "execution_count": null,
      "outputs": [
        {
          "output_type": "stream",
          "text": [
            "{'name': 'Bob', 'language': ['English', 'Gernman']}\n",
            "{'fruit': 'Apple', 'size': 'Large', 'color': 'Red'}\n",
            "{\n",
            "    \"color\": \"Red\",\n",
            "    \"fruit\": \"Apple\",\n",
            "    \"size\": \"Large\"\n",
            "}\n"
          ],
          "name": "stdout"
        }
      ]
    },
    {
      "cell_type": "code",
      "metadata": {
        "colab": {
          "base_uri": "https://localhost:8080/"
        },
        "id": "uwU6QvZ7Qjas",
        "outputId": "d0ea36ff-88ba-46f0-aa28-2cd345838298"
      },
      "source": [
        "#write a program to reverse a given integer\n",
        "\n",
        "number = int(input(\"Enter the integer number: \"))  \n",
        "  \n",
        "# Initiate value to null  \n",
        "revs_number = 0  \n",
        "  \n",
        "# reverse the integer number using the while loop  \n",
        "  \n",
        "while (number > 0):  \n",
        "    # Logic  \n",
        "    remainder = number % 10  \n",
        "    revs_number = (revs_number * 10) + remainder  \n",
        "    number = number // 10  \n",
        "  \n",
        "# Display the result  \n",
        "print(\"The reverse number is : {}\".format(revs_number))  "
      ],
      "execution_count": null,
      "outputs": [
        {
          "output_type": "stream",
          "text": [
            "Enter the integer number: 5678\n",
            "The reverse number is : 8765\n"
          ],
          "name": "stdout"
        }
      ]
    }
  ]
}
