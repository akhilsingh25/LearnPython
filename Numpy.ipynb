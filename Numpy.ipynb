{
  "nbformat": 4,
  "nbformat_minor": 0,
  "metadata": {
    "colab": {
      "name": "Numpy",
      "provenance": [],
      "authorship_tag": "ABX9TyOWXAQu7X+Gfw64/OBPlTD3",
      "include_colab_link": true
    },
    "kernelspec": {
      "name": "python3",
      "display_name": "Python 3"
    },
    "language_info": {
      "name": "python"
    }
  },
  "cells": [
    {
      "cell_type": "markdown",
      "metadata": {
        "id": "view-in-github",
        "colab_type": "text"
      },
      "source": [
        "<a href=\"https://colab.research.google.com/github/akhilsingh25/LearnPython/blob/main/Numpy.ipynb\" target=\"_parent\"><img src=\"https://colab.research.google.com/assets/colab-badge.svg\" alt=\"Open In Colab\"/></a>"
      ]
    },
    {
      "cell_type": "markdown",
      "metadata": {
        "id": "ZqTy_mHAzD44"
      },
      "source": [
        "Here We Will Learn How to use Numpy , a python module/package NumPy is a library for the Python programming language, adding support for large, multi-dimensional arrays and matrices, along with a large collection of high-level mathematical functions to operate on these arrays."
      ]
    },
    {
      "cell_type": "markdown",
      "metadata": {
        "id": "nkRg3m_AzYq1"
      },
      "source": [
        "NumPy stands for Numbers in python , it is designed up to fasten the process of operation on numbers list etc. As it is primarly used in Data analysis and the data science domain."
      ]
    },
    {
      "cell_type": "code",
      "metadata": {
        "id": "QnM3J5gAzC4M"
      },
      "source": [
        "import numpy as np\n",
        "l1 = [ 1,2,3,4,5]"
      ],
      "execution_count": null,
      "outputs": []
    }
  ]
}